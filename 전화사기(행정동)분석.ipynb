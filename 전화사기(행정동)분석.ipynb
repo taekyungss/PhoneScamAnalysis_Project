{
 "cells": [
  {
   "cell_type": "markdown",
   "metadata": {},
   "source": [
    "### 전화사기(행정동) 분석"
   ]
  },
  {
   "cell_type": "code",
   "execution_count": 1,
   "metadata": {
    "id": "qSycUbU8uK8v"
   },
   "outputs": [],
   "source": [
    "# /content/drive/MyDrive/Colab Notebooks/boostcourse/부스트코스 프로젝트/전화사기(행정동)_2019.2021/KPU_18_20191231_C_001.csv"
   ]
  },
  {
   "cell_type": "code",
   "execution_count": 2,
   "metadata": {
    "id": "1NR0q3lTuyOG"
   },
   "outputs": [],
   "source": [
    "import pandas as pd\n",
    "import seaborn as sns\n",
    "import matplotlib.pyplot as plt\n",
    "from glob import glob"
   ]
  },
  {
   "cell_type": "code",
   "execution_count": 3,
   "metadata": {
    "id": "CnhS6R6r2VX1",
    "scrolled": true
   },
   "outputs": [
    {
     "name": "stdout",
     "output_type": "stream",
     "text": [
      "Requirement already satisfied: koreanize-matplotlib in c:\\users\\seung\\anaconda3\\lib\\site-packages (0.1.1)\n",
      "Requirement already satisfied: matplotlib in c:\\users\\seung\\anaconda3\\lib\\site-packages (from koreanize-matplotlib) (3.4.3)\n",
      "Requirement already satisfied: pillow>=6.2.0 in c:\\users\\seung\\anaconda3\\lib\\site-packages (from matplotlib->koreanize-matplotlib) (8.4.0)\n",
      "Requirement already satisfied: cycler>=0.10 in c:\\users\\seung\\anaconda3\\lib\\site-packages (from matplotlib->koreanize-matplotlib) (0.10.0)\n",
      "Requirement already satisfied: kiwisolver>=1.0.1 in c:\\users\\seung\\anaconda3\\lib\\site-packages (from matplotlib->koreanize-matplotlib) (1.3.1)\n",
      "Requirement already satisfied: python-dateutil>=2.7 in c:\\users\\seung\\anaconda3\\lib\\site-packages (from matplotlib->koreanize-matplotlib) (2.8.2)\n",
      "Requirement already satisfied: pyparsing>=2.2.1 in c:\\users\\seung\\anaconda3\\lib\\site-packages (from matplotlib->koreanize-matplotlib) (3.0.4)\n",
      "Requirement already satisfied: numpy>=1.16 in c:\\users\\seung\\anaconda3\\lib\\site-packages (from matplotlib->koreanize-matplotlib) (1.20.3)\n",
      "Requirement already satisfied: six in c:\\users\\seung\\anaconda3\\lib\\site-packages (from cycler>=0.10->matplotlib->koreanize-matplotlib) (1.16.0)\n"
     ]
    },
    {
     "name": "stderr",
     "output_type": "stream",
     "text": [
      "WARNING: Ignoring invalid distribution -ywin32 (c:\\users\\seung\\anaconda3\\lib\\site-packages)\n",
      "WARNING: Ignoring invalid distribution -ywin32 (c:\\users\\seung\\anaconda3\\lib\\site-packages)\n",
      "WARNING: Ignoring invalid distribution -ywin32 (c:\\users\\seung\\anaconda3\\lib\\site-packages)\n",
      "WARNING: Ignoring invalid distribution -ywin32 (c:\\users\\seung\\anaconda3\\lib\\site-packages)\n",
      "WARNING: Ignoring invalid distribution -ywin32 (c:\\users\\seung\\anaconda3\\lib\\site-packages)\n",
      "WARNING: Ignoring invalid distribution -ywin32 (c:\\users\\seung\\anaconda3\\lib\\site-packages)\n"
     ]
    }
   ],
   "source": [
    "!pip install koreanize-matplotlib\n",
    "\n",
    "import koreanize_matplotlib"
   ]
  },
  {
   "cell_type": "code",
   "execution_count": 4,
   "metadata": {},
   "outputs": [],
   "source": [
    "import os\n",
    "plt.rc('font',family='Malgun Gothic')\n",
    "plt.rc('axes', unicode_minus=False)\n",
    "\n",
    "%config InlineBackend.figure_format = 'retina'"
   ]
  },
  {
   "cell_type": "code",
   "execution_count": 5,
   "metadata": {
    "id": "c1SKZGGBvijO"
   },
   "outputs": [],
   "source": [
    "# 열 이름 추가하기\n",
    "\n",
    "df1 = pd.read_csv('project_data/KPU_18_20191231_C_001.csv',encoding=\"utf-8\", header = None, names=['기준년도','시도','시군구','행정동','인구','신고성별남성','신고성별여성','신고성별불상','신고성별기타','접수긴급유형긴급','접수긴급유형중요','접수긴급유형일반','접수긴급유형민원','접수긴급유형기타',\n",
    "             '발생요일일요일','발생요일월요일','발생요일화요일','발생요일수요일','발생요일목요일','발생요일금요일','발생요일토요일',\n",
    "             '발생시간대00','발생시간대01','발생시간대02','발생시간대03','발생시간대04','발생시간대05','발생시간대06','발생시간대07','발생시간대08',\n",
    "             '발생시간대09','발생시간대10','발생시간대11','발생시간대12','발생시간대13','발생시간대14','발생시간대15','발생시간대16','발생시간대17',\n",
    "             '발생시간대18', '발생시간대19','발생시간대20','발생시간대21','발생시간대22','발생시간대23'])\n",
    "df2 = pd.read_csv('project_data/KPU_18_20201231_C_001.csv',encoding=\"utf-8\",header = None, names=['기준년도','시도','시군구','행정동','인구','신고성별남성','신고성별여성','신고성별불상','신고성별기타','접수긴급유형긴급','접수긴급유형중요','접수긴급유형일반','접수긴급유형민원','접수긴급유형기타',\n",
    "             '발생요일일요일','발생요일월요일','발생요일화요일','발생요일수요일','발생요일목요일','발생요일금요일','발생요일토요일',\n",
    "             '발생시간대00','발생시간대01','발생시간대02','발생시간대03','발생시간대04','발생시간대05','발생시간대06','발생시간대07','발생시간대08',\n",
    "             '발생시간대09','발생시간대10','발생시간대11','발생시간대12','발생시간대13','발생시간대14','발생시간대15','발생시간대16','발생시간대17',\n",
    "             '발생시간대18', '발생시간대19','발생시간대20','발생시간대21','발생시간대22','발생시간대23'])\n",
    "df3 = pd.read_csv('project_data/KPU_18_20211231_C_001.csv',encoding=\"utf-8\",header = None, names=['기준년도','시도','시군구','행정동','인구','신고성별남성','신고성별여성','신고성별불상','신고성별기타','접수긴급유형긴급','접수긴급유형중요','접수긴급유형일반','접수긴급유형민원','접수긴급유형기타',\n",
    "             '발생요일일요일','발생요일월요일','발생요일화요일','발생요일수요일','발생요일목요일','발생요일금요일','발생요일토요일',\n",
    "             '발생시간대00','발생시간대01','발생시간대02','발생시간대03','발생시간대04','발생시간대05','발생시간대06','발생시간대07','발생시간대08',\n",
    "             '발생시간대09','발생시간대10','발생시간대11','발생시간대12','발생시간대13','발생시간대14','발생시간대15','발생시간대16','발생시간대17',\n",
    "             '발생시간대18', '발생시간대19','발생시간대20','발생시간대21','발생시간대22','발생시간대23'])"
   ]
  },
  {
   "cell_type": "code",
   "execution_count": 6,
   "metadata": {
    "scrolled": true
   },
   "outputs": [
    {
     "data": {
      "text/plain": [
       "0      3938\n",
       "418       1\n",
       "Name: 신고성별기타, dtype: int64"
      ]
     },
     "execution_count": 6,
     "metadata": {},
     "output_type": "execute_result"
    }
   ],
   "source": [
    "df1['신고성별기타'].value_counts()"
   ]
  },
  {
   "cell_type": "code",
   "execution_count": 8,
   "metadata": {},
   "outputs": [
    {
     "name": "stdout",
     "output_type": "stream",
     "text": [
      "(3939, 45)\n",
      "(4235, 45)\n",
      "(4567, 45)\n"
     ]
    },
    {
     "data": {
      "text/plain": [
       "12741"
      ]
     },
     "execution_count": 8,
     "metadata": {},
     "output_type": "execute_result"
    }
   ],
   "source": [
    "print(df1.shape)\n",
    "print(df2.shape)\n",
    "print(df3.shape)\n",
    "3939+4235+4567"
   ]
  },
  {
   "cell_type": "code",
   "execution_count": 9,
   "metadata": {
    "id": "JkkCBtoDzzCX"
   },
   "outputs": [],
   "source": [
    "# concat 함수 -> 데이터프레임 이어붙이기 // axis = 0 -> 위,아래로 이어붙이기\n",
    "# ignore_index=True -> 행 인덱스 번호 재배열\n",
    "df = pd.concat([df1,df2], axis=0, ignore_index=True)"
   ]
  },
  {
   "cell_type": "code",
   "execution_count": 10,
   "metadata": {},
   "outputs": [
    {
     "data": {
      "text/plain": [
       "(8174, 45)"
      ]
     },
     "execution_count": 10,
     "metadata": {},
     "output_type": "execute_result"
    }
   ],
   "source": [
    "df.shape"
   ]
  },
  {
   "cell_type": "code",
   "execution_count": 11,
   "metadata": {
    "id": "LwvHzzddz4eD",
    "run_control": {
     "marked": true
    },
    "scrolled": true
   },
   "outputs": [],
   "source": [
    "df =  pd.concat([df,df3],axis=0, ignore_index=True)"
   ]
  },
  {
   "cell_type": "code",
   "execution_count": 12,
   "metadata": {},
   "outputs": [
    {
     "data": {
      "text/plain": [
       "(12741, 45)"
      ]
     },
     "execution_count": 12,
     "metadata": {},
     "output_type": "execute_result"
    }
   ],
   "source": [
    "df.shape"
   ]
  },
  {
   "cell_type": "code",
   "execution_count": 13,
   "metadata": {},
   "outputs": [
    {
     "data": {
      "text/html": [
       "<div>\n",
       "<style scoped>\n",
       "    .dataframe tbody tr th:only-of-type {\n",
       "        vertical-align: middle;\n",
       "    }\n",
       "\n",
       "    .dataframe tbody tr th {\n",
       "        vertical-align: top;\n",
       "    }\n",
       "\n",
       "    .dataframe thead th {\n",
       "        text-align: right;\n",
       "    }\n",
       "</style>\n",
       "<table border=\"1\" class=\"dataframe\">\n",
       "  <thead>\n",
       "    <tr style=\"text-align: right;\">\n",
       "      <th></th>\n",
       "      <th>기준년도</th>\n",
       "      <th>시도</th>\n",
       "      <th>시군구</th>\n",
       "      <th>행정동</th>\n",
       "      <th>인구</th>\n",
       "      <th>신고성별남성</th>\n",
       "      <th>신고성별여성</th>\n",
       "      <th>신고성별불상</th>\n",
       "      <th>신고성별기타</th>\n",
       "      <th>접수긴급유형긴급</th>\n",
       "      <th>...</th>\n",
       "      <th>발생시간대14</th>\n",
       "      <th>발생시간대15</th>\n",
       "      <th>발생시간대16</th>\n",
       "      <th>발생시간대17</th>\n",
       "      <th>발생시간대18</th>\n",
       "      <th>발생시간대19</th>\n",
       "      <th>발생시간대20</th>\n",
       "      <th>발생시간대21</th>\n",
       "      <th>발생시간대22</th>\n",
       "      <th>발생시간대23</th>\n",
       "    </tr>\n",
       "  </thead>\n",
       "  <tbody>\n",
       "    <tr>\n",
       "      <th>0</th>\n",
       "      <td>2019</td>\n",
       "      <td>ETC</td>\n",
       "      <td>ETC</td>\n",
       "      <td>ETC</td>\n",
       "      <td>100352</td>\n",
       "      <td>55488</td>\n",
       "      <td>43391</td>\n",
       "      <td>1055</td>\n",
       "      <td>418</td>\n",
       "      <td>316</td>\n",
       "      <td>...</td>\n",
       "      <td>10234</td>\n",
       "      <td>7804</td>\n",
       "      <td>6322</td>\n",
       "      <td>5419</td>\n",
       "      <td>4261</td>\n",
       "      <td>3011</td>\n",
       "      <td>2255</td>\n",
       "      <td>1756</td>\n",
       "      <td>1322</td>\n",
       "      <td>914</td>\n",
       "    </tr>\n",
       "    <tr>\n",
       "      <th>1</th>\n",
       "      <td>2019</td>\n",
       "      <td>광주광역시</td>\n",
       "      <td>광산구</td>\n",
       "      <td>우산동</td>\n",
       "      <td>41</td>\n",
       "      <td>17</td>\n",
       "      <td>20</td>\n",
       "      <td>4</td>\n",
       "      <td>0</td>\n",
       "      <td>0</td>\n",
       "      <td>...</td>\n",
       "      <td>2</td>\n",
       "      <td>3</td>\n",
       "      <td>2</td>\n",
       "      <td>5</td>\n",
       "      <td>0</td>\n",
       "      <td>0</td>\n",
       "      <td>0</td>\n",
       "      <td>0</td>\n",
       "      <td>2</td>\n",
       "      <td>2</td>\n",
       "    </tr>\n",
       "    <tr>\n",
       "      <th>2</th>\n",
       "      <td>2019</td>\n",
       "      <td>경기도</td>\n",
       "      <td>성남시 수정구</td>\n",
       "      <td>복정동</td>\n",
       "      <td>40</td>\n",
       "      <td>15</td>\n",
       "      <td>20</td>\n",
       "      <td>5</td>\n",
       "      <td>0</td>\n",
       "      <td>0</td>\n",
       "      <td>...</td>\n",
       "      <td>1</td>\n",
       "      <td>4</td>\n",
       "      <td>2</td>\n",
       "      <td>1</td>\n",
       "      <td>4</td>\n",
       "      <td>2</td>\n",
       "      <td>1</td>\n",
       "      <td>0</td>\n",
       "      <td>0</td>\n",
       "      <td>1</td>\n",
       "    </tr>\n",
       "    <tr>\n",
       "      <th>3</th>\n",
       "      <td>2019</td>\n",
       "      <td>서울특별시</td>\n",
       "      <td>노원구</td>\n",
       "      <td>상계동</td>\n",
       "      <td>380</td>\n",
       "      <td>156</td>\n",
       "      <td>190</td>\n",
       "      <td>34</td>\n",
       "      <td>0</td>\n",
       "      <td>9</td>\n",
       "      <td>...</td>\n",
       "      <td>26</td>\n",
       "      <td>35</td>\n",
       "      <td>22</td>\n",
       "      <td>14</td>\n",
       "      <td>14</td>\n",
       "      <td>8</td>\n",
       "      <td>12</td>\n",
       "      <td>8</td>\n",
       "      <td>2</td>\n",
       "      <td>3</td>\n",
       "    </tr>\n",
       "    <tr>\n",
       "      <th>4</th>\n",
       "      <td>2019</td>\n",
       "      <td>서울특별시</td>\n",
       "      <td>양천구</td>\n",
       "      <td>신월동</td>\n",
       "      <td>205</td>\n",
       "      <td>105</td>\n",
       "      <td>84</td>\n",
       "      <td>16</td>\n",
       "      <td>0</td>\n",
       "      <td>5</td>\n",
       "      <td>...</td>\n",
       "      <td>16</td>\n",
       "      <td>17</td>\n",
       "      <td>13</td>\n",
       "      <td>11</td>\n",
       "      <td>3</td>\n",
       "      <td>5</td>\n",
       "      <td>2</td>\n",
       "      <td>4</td>\n",
       "      <td>2</td>\n",
       "      <td>3</td>\n",
       "    </tr>\n",
       "    <tr>\n",
       "      <th>...</th>\n",
       "      <td>...</td>\n",
       "      <td>...</td>\n",
       "      <td>...</td>\n",
       "      <td>...</td>\n",
       "      <td>...</td>\n",
       "      <td>...</td>\n",
       "      <td>...</td>\n",
       "      <td>...</td>\n",
       "      <td>...</td>\n",
       "      <td>...</td>\n",
       "      <td>...</td>\n",
       "      <td>...</td>\n",
       "      <td>...</td>\n",
       "      <td>...</td>\n",
       "      <td>...</td>\n",
       "      <td>...</td>\n",
       "      <td>...</td>\n",
       "      <td>...</td>\n",
       "      <td>...</td>\n",
       "      <td>...</td>\n",
       "      <td>...</td>\n",
       "    </tr>\n",
       "    <tr>\n",
       "      <th>12736</th>\n",
       "      <td>2021</td>\n",
       "      <td>대전광역시</td>\n",
       "      <td>서구</td>\n",
       "      <td>평촌동</td>\n",
       "      <td>2</td>\n",
       "      <td>0</td>\n",
       "      <td>2</td>\n",
       "      <td>0</td>\n",
       "      <td>0</td>\n",
       "      <td>0</td>\n",
       "      <td>...</td>\n",
       "      <td>0</td>\n",
       "      <td>0</td>\n",
       "      <td>0</td>\n",
       "      <td>2</td>\n",
       "      <td>0</td>\n",
       "      <td>0</td>\n",
       "      <td>0</td>\n",
       "      <td>0</td>\n",
       "      <td>0</td>\n",
       "      <td>0</td>\n",
       "    </tr>\n",
       "    <tr>\n",
       "      <th>12737</th>\n",
       "      <td>2021</td>\n",
       "      <td>충청북도</td>\n",
       "      <td>괴산군</td>\n",
       "      <td>감물면</td>\n",
       "      <td>2</td>\n",
       "      <td>2</td>\n",
       "      <td>0</td>\n",
       "      <td>0</td>\n",
       "      <td>0</td>\n",
       "      <td>0</td>\n",
       "      <td>...</td>\n",
       "      <td>0</td>\n",
       "      <td>0</td>\n",
       "      <td>0</td>\n",
       "      <td>0</td>\n",
       "      <td>0</td>\n",
       "      <td>0</td>\n",
       "      <td>0</td>\n",
       "      <td>0</td>\n",
       "      <td>0</td>\n",
       "      <td>0</td>\n",
       "    </tr>\n",
       "    <tr>\n",
       "      <th>12738</th>\n",
       "      <td>2021</td>\n",
       "      <td>인천광역시</td>\n",
       "      <td>중구</td>\n",
       "      <td>중앙동2가</td>\n",
       "      <td>2</td>\n",
       "      <td>0</td>\n",
       "      <td>2</td>\n",
       "      <td>0</td>\n",
       "      <td>0</td>\n",
       "      <td>0</td>\n",
       "      <td>...</td>\n",
       "      <td>0</td>\n",
       "      <td>1</td>\n",
       "      <td>0</td>\n",
       "      <td>0</td>\n",
       "      <td>0</td>\n",
       "      <td>0</td>\n",
       "      <td>0</td>\n",
       "      <td>0</td>\n",
       "      <td>0</td>\n",
       "      <td>0</td>\n",
       "    </tr>\n",
       "    <tr>\n",
       "      <th>12739</th>\n",
       "      <td>2021</td>\n",
       "      <td>경상남도</td>\n",
       "      <td>창원시 마산합포구</td>\n",
       "      <td>장군동3가</td>\n",
       "      <td>1</td>\n",
       "      <td>1</td>\n",
       "      <td>0</td>\n",
       "      <td>0</td>\n",
       "      <td>0</td>\n",
       "      <td>0</td>\n",
       "      <td>...</td>\n",
       "      <td>0</td>\n",
       "      <td>0</td>\n",
       "      <td>0</td>\n",
       "      <td>0</td>\n",
       "      <td>0</td>\n",
       "      <td>0</td>\n",
       "      <td>0</td>\n",
       "      <td>1</td>\n",
       "      <td>0</td>\n",
       "      <td>0</td>\n",
       "    </tr>\n",
       "    <tr>\n",
       "      <th>12740</th>\n",
       "      <td>2021</td>\n",
       "      <td>경상북도</td>\n",
       "      <td>의성군</td>\n",
       "      <td>점곡면</td>\n",
       "      <td>1</td>\n",
       "      <td>1</td>\n",
       "      <td>0</td>\n",
       "      <td>0</td>\n",
       "      <td>0</td>\n",
       "      <td>0</td>\n",
       "      <td>...</td>\n",
       "      <td>1</td>\n",
       "      <td>0</td>\n",
       "      <td>0</td>\n",
       "      <td>0</td>\n",
       "      <td>0</td>\n",
       "      <td>0</td>\n",
       "      <td>0</td>\n",
       "      <td>0</td>\n",
       "      <td>0</td>\n",
       "      <td>0</td>\n",
       "    </tr>\n",
       "  </tbody>\n",
       "</table>\n",
       "<p>12741 rows × 45 columns</p>\n",
       "</div>"
      ],
      "text/plain": [
       "       기준년도     시도        시군구    행정동      인구  신고성별남성  신고성별여성  신고성별불상  신고성별기타  \\\n",
       "0      2019    ETC        ETC    ETC  100352   55488   43391    1055     418   \n",
       "1      2019  광주광역시        광산구    우산동      41      17      20       4       0   \n",
       "2      2019    경기도    성남시 수정구    복정동      40      15      20       5       0   \n",
       "3      2019  서울특별시        노원구    상계동     380     156     190      34       0   \n",
       "4      2019  서울특별시        양천구    신월동     205     105      84      16       0   \n",
       "...     ...    ...        ...    ...     ...     ...     ...     ...     ...   \n",
       "12736  2021  대전광역시         서구    평촌동       2       0       2       0       0   \n",
       "12737  2021   충청북도        괴산군    감물면       2       2       0       0       0   \n",
       "12738  2021  인천광역시         중구  중앙동2가       2       0       2       0       0   \n",
       "12739  2021   경상남도  창원시 마산합포구  장군동3가       1       1       0       0       0   \n",
       "12740  2021   경상북도        의성군    점곡면       1       1       0       0       0   \n",
       "\n",
       "       접수긴급유형긴급  ...  발생시간대14  발생시간대15  발생시간대16  발생시간대17  발생시간대18  발생시간대19  \\\n",
       "0           316  ...    10234     7804     6322     5419     4261     3011   \n",
       "1             0  ...        2        3        2        5        0        0   \n",
       "2             0  ...        1        4        2        1        4        2   \n",
       "3             9  ...       26       35       22       14       14        8   \n",
       "4             5  ...       16       17       13       11        3        5   \n",
       "...         ...  ...      ...      ...      ...      ...      ...      ...   \n",
       "12736         0  ...        0        0        0        2        0        0   \n",
       "12737         0  ...        0        0        0        0        0        0   \n",
       "12738         0  ...        0        1        0        0        0        0   \n",
       "12739         0  ...        0        0        0        0        0        0   \n",
       "12740         0  ...        1        0        0        0        0        0   \n",
       "\n",
       "       발생시간대20  발생시간대21  발생시간대22  발생시간대23  \n",
       "0         2255     1756     1322      914  \n",
       "1            0        0        2        2  \n",
       "2            1        0        0        1  \n",
       "3           12        8        2        3  \n",
       "4            2        4        2        3  \n",
       "...        ...      ...      ...      ...  \n",
       "12736        0        0        0        0  \n",
       "12737        0        0        0        0  \n",
       "12738        0        0        0        0  \n",
       "12739        0        1        0        0  \n",
       "12740        0        0        0        0  \n",
       "\n",
       "[12741 rows x 45 columns]"
      ]
     },
     "execution_count": 13,
     "metadata": {},
     "output_type": "execute_result"
    }
   ],
   "source": [
    "df"
   ]
  },
  {
   "cell_type": "code",
   "execution_count": 14,
   "metadata": {
    "id": "tVin2vscz-w0"
   },
   "outputs": [
    {
     "name": "stdout",
     "output_type": "stream",
     "text": [
      "<class 'pandas.core.frame.DataFrame'>\n",
      "RangeIndex: 12741 entries, 0 to 12740\n",
      "Data columns (total 45 columns):\n",
      " #   Column    Non-Null Count  Dtype \n",
      "---  ------    --------------  ----- \n",
      " 0   기준년도      12741 non-null  int64 \n",
      " 1   시도        12741 non-null  object\n",
      " 2   시군구       12741 non-null  object\n",
      " 3   행정동       12741 non-null  object\n",
      " 4   인구        12741 non-null  int64 \n",
      " 5   신고성별남성    12741 non-null  int64 \n",
      " 6   신고성별여성    12741 non-null  int64 \n",
      " 7   신고성별불상    12741 non-null  int64 \n",
      " 8   신고성별기타    12741 non-null  int64 \n",
      " 9   접수긴급유형긴급  12741 non-null  int64 \n",
      " 10  접수긴급유형중요  12741 non-null  int64 \n",
      " 11  접수긴급유형일반  12741 non-null  int64 \n",
      " 12  접수긴급유형민원  12741 non-null  int64 \n",
      " 13  접수긴급유형기타  12741 non-null  int64 \n",
      " 14  발생요일일요일   12741 non-null  int64 \n",
      " 15  발생요일월요일   12741 non-null  int64 \n",
      " 16  발생요일화요일   12741 non-null  int64 \n",
      " 17  발생요일수요일   12741 non-null  int64 \n",
      " 18  발생요일목요일   12741 non-null  int64 \n",
      " 19  발생요일금요일   12741 non-null  int64 \n",
      " 20  발생요일토요일   12741 non-null  int64 \n",
      " 21  발생시간대00   12741 non-null  int64 \n",
      " 22  발생시간대01   12741 non-null  int64 \n",
      " 23  발생시간대02   12741 non-null  int64 \n",
      " 24  발생시간대03   12741 non-null  int64 \n",
      " 25  발생시간대04   12741 non-null  int64 \n",
      " 26  발생시간대05   12741 non-null  int64 \n",
      " 27  발생시간대06   12741 non-null  int64 \n",
      " 28  발생시간대07   12741 non-null  int64 \n",
      " 29  발생시간대08   12741 non-null  int64 \n",
      " 30  발생시간대09   12741 non-null  int64 \n",
      " 31  발생시간대10   12741 non-null  int64 \n",
      " 32  발생시간대11   12741 non-null  int64 \n",
      " 33  발생시간대12   12741 non-null  int64 \n",
      " 34  발생시간대13   12741 non-null  int64 \n",
      " 35  발생시간대14   12741 non-null  int64 \n",
      " 36  발생시간대15   12741 non-null  int64 \n",
      " 37  발생시간대16   12741 non-null  int64 \n",
      " 38  발생시간대17   12741 non-null  int64 \n",
      " 39  발생시간대18   12741 non-null  int64 \n",
      " 40  발생시간대19   12741 non-null  int64 \n",
      " 41  발생시간대20   12741 non-null  int64 \n",
      " 42  발생시간대21   12741 non-null  int64 \n",
      " 43  발생시간대22   12741 non-null  int64 \n",
      " 44  발생시간대23   12741 non-null  int64 \n",
      "dtypes: int64(42), object(3)\n",
      "memory usage: 4.4+ MB\n"
     ]
    }
   ],
   "source": [
    "df.info()"
   ]
  },
  {
   "cell_type": "code",
   "execution_count": 15,
   "metadata": {
    "id": "B3X84fru0PKJ"
   },
   "outputs": [
    {
     "data": {
      "text/html": [
       "<div>\n",
       "<style scoped>\n",
       "    .dataframe tbody tr th:only-of-type {\n",
       "        vertical-align: middle;\n",
       "    }\n",
       "\n",
       "    .dataframe tbody tr th {\n",
       "        vertical-align: top;\n",
       "    }\n",
       "\n",
       "    .dataframe thead th {\n",
       "        text-align: right;\n",
       "    }\n",
       "</style>\n",
       "<table border=\"1\" class=\"dataframe\">\n",
       "  <thead>\n",
       "    <tr style=\"text-align: right;\">\n",
       "      <th></th>\n",
       "      <th>기준년도</th>\n",
       "      <th>인구</th>\n",
       "      <th>신고성별남성</th>\n",
       "      <th>신고성별여성</th>\n",
       "      <th>신고성별불상</th>\n",
       "      <th>신고성별기타</th>\n",
       "      <th>접수긴급유형긴급</th>\n",
       "      <th>접수긴급유형중요</th>\n",
       "      <th>접수긴급유형일반</th>\n",
       "      <th>접수긴급유형민원</th>\n",
       "      <th>...</th>\n",
       "      <th>발생시간대14</th>\n",
       "      <th>발생시간대15</th>\n",
       "      <th>발생시간대16</th>\n",
       "      <th>발생시간대17</th>\n",
       "      <th>발생시간대18</th>\n",
       "      <th>발생시간대19</th>\n",
       "      <th>발생시간대20</th>\n",
       "      <th>발생시간대21</th>\n",
       "      <th>발생시간대22</th>\n",
       "      <th>발생시간대23</th>\n",
       "    </tr>\n",
       "  </thead>\n",
       "  <tbody>\n",
       "    <tr>\n",
       "      <th>count</th>\n",
       "      <td>12741.000000</td>\n",
       "      <td>12741.000000</td>\n",
       "      <td>12741.000000</td>\n",
       "      <td>12741.000000</td>\n",
       "      <td>12741.000000</td>\n",
       "      <td>12741.000000</td>\n",
       "      <td>12741.000000</td>\n",
       "      <td>12741.000000</td>\n",
       "      <td>12741.000000</td>\n",
       "      <td>12741.000000</td>\n",
       "      <td>...</td>\n",
       "      <td>12741.000000</td>\n",
       "      <td>12741.000000</td>\n",
       "      <td>12741.000000</td>\n",
       "      <td>12741.000000</td>\n",
       "      <td>12741.000000</td>\n",
       "      <td>12741.000000</td>\n",
       "      <td>12741.000000</td>\n",
       "      <td>12741.000000</td>\n",
       "      <td>12741.000000</td>\n",
       "      <td>12741.000000</td>\n",
       "    </tr>\n",
       "    <tr>\n",
       "      <th>mean</th>\n",
       "      <td>2020.049290</td>\n",
       "      <td>68.145201</td>\n",
       "      <td>30.766894</td>\n",
       "      <td>32.718782</td>\n",
       "      <td>4.602464</td>\n",
       "      <td>0.036339</td>\n",
       "      <td>0.338278</td>\n",
       "      <td>4.415901</td>\n",
       "      <td>14.554352</td>\n",
       "      <td>23.199670</td>\n",
       "      <td>...</td>\n",
       "      <td>6.893650</td>\n",
       "      <td>6.053528</td>\n",
       "      <td>4.937054</td>\n",
       "      <td>4.078879</td>\n",
       "      <td>3.195981</td>\n",
       "      <td>2.321325</td>\n",
       "      <td>1.706852</td>\n",
       "      <td>1.274468</td>\n",
       "      <td>0.946551</td>\n",
       "      <td>0.636371</td>\n",
       "    </tr>\n",
       "    <tr>\n",
       "      <th>std</th>\n",
       "      <td>0.815617</td>\n",
       "      <td>1608.050050</td>\n",
       "      <td>794.068209</td>\n",
       "      <td>758.887640</td>\n",
       "      <td>67.573307</td>\n",
       "      <td>3.723617</td>\n",
       "      <td>3.778025</td>\n",
       "      <td>30.507012</td>\n",
       "      <td>93.467161</td>\n",
       "      <td>103.081733</td>\n",
       "      <td>...</td>\n",
       "      <td>159.122235</td>\n",
       "      <td>136.201912</td>\n",
       "      <td>114.037283</td>\n",
       "      <td>96.740572</td>\n",
       "      <td>77.635629</td>\n",
       "      <td>57.808612</td>\n",
       "      <td>42.053239</td>\n",
       "      <td>32.428759</td>\n",
       "      <td>23.707126</td>\n",
       "      <td>16.451461</td>\n",
       "    </tr>\n",
       "    <tr>\n",
       "      <th>min</th>\n",
       "      <td>2019.000000</td>\n",
       "      <td>1.000000</td>\n",
       "      <td>0.000000</td>\n",
       "      <td>0.000000</td>\n",
       "      <td>0.000000</td>\n",
       "      <td>0.000000</td>\n",
       "      <td>0.000000</td>\n",
       "      <td>0.000000</td>\n",
       "      <td>0.000000</td>\n",
       "      <td>0.000000</td>\n",
       "      <td>...</td>\n",
       "      <td>0.000000</td>\n",
       "      <td>0.000000</td>\n",
       "      <td>0.000000</td>\n",
       "      <td>0.000000</td>\n",
       "      <td>0.000000</td>\n",
       "      <td>0.000000</td>\n",
       "      <td>0.000000</td>\n",
       "      <td>0.000000</td>\n",
       "      <td>0.000000</td>\n",
       "      <td>0.000000</td>\n",
       "    </tr>\n",
       "    <tr>\n",
       "      <th>25%</th>\n",
       "      <td>2019.000000</td>\n",
       "      <td>3.000000</td>\n",
       "      <td>1.000000</td>\n",
       "      <td>1.000000</td>\n",
       "      <td>0.000000</td>\n",
       "      <td>0.000000</td>\n",
       "      <td>0.000000</td>\n",
       "      <td>0.000000</td>\n",
       "      <td>1.000000</td>\n",
       "      <td>1.000000</td>\n",
       "      <td>...</td>\n",
       "      <td>0.000000</td>\n",
       "      <td>0.000000</td>\n",
       "      <td>0.000000</td>\n",
       "      <td>0.000000</td>\n",
       "      <td>0.000000</td>\n",
       "      <td>0.000000</td>\n",
       "      <td>0.000000</td>\n",
       "      <td>0.000000</td>\n",
       "      <td>0.000000</td>\n",
       "      <td>0.000000</td>\n",
       "    </tr>\n",
       "    <tr>\n",
       "      <th>50%</th>\n",
       "      <td>2020.000000</td>\n",
       "      <td>10.000000</td>\n",
       "      <td>5.000000</td>\n",
       "      <td>4.000000</td>\n",
       "      <td>1.000000</td>\n",
       "      <td>0.000000</td>\n",
       "      <td>0.000000</td>\n",
       "      <td>1.000000</td>\n",
       "      <td>3.000000</td>\n",
       "      <td>4.000000</td>\n",
       "      <td>...</td>\n",
       "      <td>1.000000</td>\n",
       "      <td>1.000000</td>\n",
       "      <td>1.000000</td>\n",
       "      <td>1.000000</td>\n",
       "      <td>0.000000</td>\n",
       "      <td>0.000000</td>\n",
       "      <td>0.000000</td>\n",
       "      <td>0.000000</td>\n",
       "      <td>0.000000</td>\n",
       "      <td>0.000000</td>\n",
       "    </tr>\n",
       "    <tr>\n",
       "      <th>75%</th>\n",
       "      <td>2021.000000</td>\n",
       "      <td>37.000000</td>\n",
       "      <td>17.000000</td>\n",
       "      <td>17.000000</td>\n",
       "      <td>3.000000</td>\n",
       "      <td>0.000000</td>\n",
       "      <td>0.000000</td>\n",
       "      <td>4.000000</td>\n",
       "      <td>12.000000</td>\n",
       "      <td>16.000000</td>\n",
       "      <td>...</td>\n",
       "      <td>4.000000</td>\n",
       "      <td>4.000000</td>\n",
       "      <td>3.000000</td>\n",
       "      <td>3.000000</td>\n",
       "      <td>2.000000</td>\n",
       "      <td>1.000000</td>\n",
       "      <td>1.000000</td>\n",
       "      <td>1.000000</td>\n",
       "      <td>0.000000</td>\n",
       "      <td>0.000000</td>\n",
       "    </tr>\n",
       "    <tr>\n",
       "      <th>max</th>\n",
       "      <td>2021.000000</td>\n",
       "      <td>125658.000000</td>\n",
       "      <td>57724.000000</td>\n",
       "      <td>60576.000000</td>\n",
       "      <td>7357.000000</td>\n",
       "      <td>418.000000</td>\n",
       "      <td>316.000000</td>\n",
       "      <td>1948.000000</td>\n",
       "      <td>7549.000000</td>\n",
       "      <td>6849.000000</td>\n",
       "      <td>...</td>\n",
       "      <td>12438.000000</td>\n",
       "      <td>11154.000000</td>\n",
       "      <td>9270.000000</td>\n",
       "      <td>7917.000000</td>\n",
       "      <td>6515.000000</td>\n",
       "      <td>4883.000000</td>\n",
       "      <td>3576.000000</td>\n",
       "      <td>2758.000000</td>\n",
       "      <td>1980.000000</td>\n",
       "      <td>1385.000000</td>\n",
       "    </tr>\n",
       "  </tbody>\n",
       "</table>\n",
       "<p>8 rows × 42 columns</p>\n",
       "</div>"
      ],
      "text/plain": [
       "               기준년도             인구        신고성별남성        신고성별여성        신고성별불상  \\\n",
       "count  12741.000000   12741.000000  12741.000000  12741.000000  12741.000000   \n",
       "mean    2020.049290      68.145201     30.766894     32.718782      4.602464   \n",
       "std        0.815617    1608.050050    794.068209    758.887640     67.573307   \n",
       "min     2019.000000       1.000000      0.000000      0.000000      0.000000   \n",
       "25%     2019.000000       3.000000      1.000000      1.000000      0.000000   \n",
       "50%     2020.000000      10.000000      5.000000      4.000000      1.000000   \n",
       "75%     2021.000000      37.000000     17.000000     17.000000      3.000000   \n",
       "max     2021.000000  125658.000000  57724.000000  60576.000000   7357.000000   \n",
       "\n",
       "             신고성별기타      접수긴급유형긴급      접수긴급유형중요      접수긴급유형일반      접수긴급유형민원  \\\n",
       "count  12741.000000  12741.000000  12741.000000  12741.000000  12741.000000   \n",
       "mean       0.036339      0.338278      4.415901     14.554352     23.199670   \n",
       "std        3.723617      3.778025     30.507012     93.467161    103.081733   \n",
       "min        0.000000      0.000000      0.000000      0.000000      0.000000   \n",
       "25%        0.000000      0.000000      0.000000      1.000000      1.000000   \n",
       "50%        0.000000      0.000000      1.000000      3.000000      4.000000   \n",
       "75%        0.000000      0.000000      4.000000     12.000000     16.000000   \n",
       "max      418.000000    316.000000   1948.000000   7549.000000   6849.000000   \n",
       "\n",
       "       ...       발생시간대14       발생시간대15       발생시간대16       발생시간대17  \\\n",
       "count  ...  12741.000000  12741.000000  12741.000000  12741.000000   \n",
       "mean   ...      6.893650      6.053528      4.937054      4.078879   \n",
       "std    ...    159.122235    136.201912    114.037283     96.740572   \n",
       "min    ...      0.000000      0.000000      0.000000      0.000000   \n",
       "25%    ...      0.000000      0.000000      0.000000      0.000000   \n",
       "50%    ...      1.000000      1.000000      1.000000      1.000000   \n",
       "75%    ...      4.000000      4.000000      3.000000      3.000000   \n",
       "max    ...  12438.000000  11154.000000   9270.000000   7917.000000   \n",
       "\n",
       "            발생시간대18       발생시간대19       발생시간대20       발생시간대21       발생시간대22  \\\n",
       "count  12741.000000  12741.000000  12741.000000  12741.000000  12741.000000   \n",
       "mean       3.195981      2.321325      1.706852      1.274468      0.946551   \n",
       "std       77.635629     57.808612     42.053239     32.428759     23.707126   \n",
       "min        0.000000      0.000000      0.000000      0.000000      0.000000   \n",
       "25%        0.000000      0.000000      0.000000      0.000000      0.000000   \n",
       "50%        0.000000      0.000000      0.000000      0.000000      0.000000   \n",
       "75%        2.000000      1.000000      1.000000      1.000000      0.000000   \n",
       "max     6515.000000   4883.000000   3576.000000   2758.000000   1980.000000   \n",
       "\n",
       "            발생시간대23  \n",
       "count  12741.000000  \n",
       "mean       0.636371  \n",
       "std       16.451461  \n",
       "min        0.000000  \n",
       "25%        0.000000  \n",
       "50%        0.000000  \n",
       "75%        0.000000  \n",
       "max     1385.000000  \n",
       "\n",
       "[8 rows x 42 columns]"
      ]
     },
     "execution_count": 15,
     "metadata": {},
     "output_type": "execute_result"
    }
   ],
   "source": [
    "df.describe()"
   ]
  },
  {
   "cell_type": "code",
   "execution_count": 16,
   "metadata": {
    "id": "tvRKoWGnFQqO"
   },
   "outputs": [
    {
     "data": {
      "text/html": [
       "<div>\n",
       "<style scoped>\n",
       "    .dataframe tbody tr th:only-of-type {\n",
       "        vertical-align: middle;\n",
       "    }\n",
       "\n",
       "    .dataframe tbody tr th {\n",
       "        vertical-align: top;\n",
       "    }\n",
       "\n",
       "    .dataframe thead th {\n",
       "        text-align: right;\n",
       "    }\n",
       "</style>\n",
       "<table border=\"1\" class=\"dataframe\">\n",
       "  <thead>\n",
       "    <tr style=\"text-align: right;\">\n",
       "      <th></th>\n",
       "      <th>기준년도</th>\n",
       "      <th>시도</th>\n",
       "      <th>시군구</th>\n",
       "      <th>행정동</th>\n",
       "      <th>인구</th>\n",
       "      <th>신고성별남성</th>\n",
       "      <th>신고성별여성</th>\n",
       "      <th>신고성별불상</th>\n",
       "      <th>신고성별기타</th>\n",
       "      <th>접수긴급유형긴급</th>\n",
       "      <th>...</th>\n",
       "      <th>발생시간대14</th>\n",
       "      <th>발생시간대15</th>\n",
       "      <th>발생시간대16</th>\n",
       "      <th>발생시간대17</th>\n",
       "      <th>발생시간대18</th>\n",
       "      <th>발생시간대19</th>\n",
       "      <th>발생시간대20</th>\n",
       "      <th>발생시간대21</th>\n",
       "      <th>발생시간대22</th>\n",
       "      <th>발생시간대23</th>\n",
       "    </tr>\n",
       "  </thead>\n",
       "  <tbody>\n",
       "    <tr>\n",
       "      <th>0</th>\n",
       "      <td>2019</td>\n",
       "      <td>ETC</td>\n",
       "      <td>ETC</td>\n",
       "      <td>ETC</td>\n",
       "      <td>100352</td>\n",
       "      <td>55488</td>\n",
       "      <td>43391</td>\n",
       "      <td>1055</td>\n",
       "      <td>418</td>\n",
       "      <td>316</td>\n",
       "      <td>...</td>\n",
       "      <td>10234</td>\n",
       "      <td>7804</td>\n",
       "      <td>6322</td>\n",
       "      <td>5419</td>\n",
       "      <td>4261</td>\n",
       "      <td>3011</td>\n",
       "      <td>2255</td>\n",
       "      <td>1756</td>\n",
       "      <td>1322</td>\n",
       "      <td>914</td>\n",
       "    </tr>\n",
       "    <tr>\n",
       "      <th>6614</th>\n",
       "      <td>2020</td>\n",
       "      <td>ETC</td>\n",
       "      <td>ETC</td>\n",
       "      <td>ETC</td>\n",
       "      <td>83509</td>\n",
       "      <td>40055</td>\n",
       "      <td>41900</td>\n",
       "      <td>1248</td>\n",
       "      <td>44</td>\n",
       "      <td>138</td>\n",
       "      <td>...</td>\n",
       "      <td>7859</td>\n",
       "      <td>7070</td>\n",
       "      <td>6259</td>\n",
       "      <td>5178</td>\n",
       "      <td>3996</td>\n",
       "      <td>3090</td>\n",
       "      <td>2142</td>\n",
       "      <td>1634</td>\n",
       "      <td>1211</td>\n",
       "      <td>825</td>\n",
       "    </tr>\n",
       "    <tr>\n",
       "      <th>8175</th>\n",
       "      <td>2021</td>\n",
       "      <td>ETC</td>\n",
       "      <td>ETC</td>\n",
       "      <td>ETC</td>\n",
       "      <td>125658</td>\n",
       "      <td>57724</td>\n",
       "      <td>60576</td>\n",
       "      <td>7357</td>\n",
       "      <td>1</td>\n",
       "      <td>210</td>\n",
       "      <td>...</td>\n",
       "      <td>12438</td>\n",
       "      <td>11154</td>\n",
       "      <td>9270</td>\n",
       "      <td>7917</td>\n",
       "      <td>6515</td>\n",
       "      <td>4883</td>\n",
       "      <td>3576</td>\n",
       "      <td>2758</td>\n",
       "      <td>1980</td>\n",
       "      <td>1385</td>\n",
       "    </tr>\n",
       "  </tbody>\n",
       "</table>\n",
       "<p>3 rows × 45 columns</p>\n",
       "</div>"
      ],
      "text/plain": [
       "      기준년도   시도  시군구  행정동      인구  신고성별남성  신고성별여성  신고성별불상  신고성별기타  접수긴급유형긴급  \\\n",
       "0     2019  ETC  ETC  ETC  100352   55488   43391    1055     418       316   \n",
       "6614  2020  ETC  ETC  ETC   83509   40055   41900    1248      44       138   \n",
       "8175  2021  ETC  ETC  ETC  125658   57724   60576    7357       1       210   \n",
       "\n",
       "      ...  발생시간대14  발생시간대15  발생시간대16  발생시간대17  발생시간대18  발생시간대19  발생시간대20  \\\n",
       "0     ...    10234     7804     6322     5419     4261     3011     2255   \n",
       "6614  ...     7859     7070     6259     5178     3996     3090     2142   \n",
       "8175  ...    12438    11154     9270     7917     6515     4883     3576   \n",
       "\n",
       "      발생시간대21  발생시간대22  발생시간대23  \n",
       "0        1756     1322      914  \n",
       "6614     1634     1211      825  \n",
       "8175     2758     1980     1385  \n",
       "\n",
       "[3 rows x 45 columns]"
      ]
     },
     "execution_count": 16,
     "metadata": {},
     "output_type": "execute_result"
    }
   ],
   "source": [
    "df[df[\"행정동\"]==\"ETC\"]"
   ]
  },
  {
   "cell_type": "code",
   "execution_count": 17,
   "metadata": {
    "id": "BR9hUUQhIrjn"
   },
   "outputs": [
    {
     "data": {
      "text/plain": [
       "(12738, 45)"
      ]
     },
     "execution_count": 17,
     "metadata": {},
     "output_type": "execute_result"
    }
   ],
   "source": [
    "df = df.drop([df.index[0],df.index[6614],df.index[8175]])\n",
    "df.shape\n",
    "# (12738, 45) 로 결과가 나와야 함"
   ]
  },
  {
   "cell_type": "code",
   "execution_count": 18,
   "metadata": {
    "id": "PUmfPvYbI6oJ"
   },
   "outputs": [],
   "source": [
    "# df[df[\"행정동\"]==\"ETC\"]\n",
    "# df = df.reset_index(drop=False)"
   ]
  },
  {
   "cell_type": "code",
   "execution_count": 19,
   "metadata": {
    "id": "vNj9iqjcE5Le",
    "run_control": {
     "marked": true
    }
   },
   "outputs": [
    {
     "data": {
      "text/plain": [
       "경기도        2073\n",
       "서울특별시      1378\n",
       "경상남도       1365\n",
       "경상북도       1256\n",
       "전라북도        963\n",
       "전라남도        933\n",
       "충청남도        761\n",
       "강원도         682\n",
       "충청북도        547\n",
       "대구광역시       543\n",
       "부산광역시       529\n",
       "광주광역시       411\n",
       "인천광역시       411\n",
       "대전광역시       396\n",
       "울산광역시       214\n",
       "제주특별자치도     201\n",
       "세종특별자치시      75\n",
       "Name: 시도, dtype: int64"
      ]
     },
     "execution_count": 19,
     "metadata": {},
     "output_type": "execute_result"
    }
   ],
   "source": [
    "df[\"시도\"].value_counts()"
   ]
  },
  {
   "cell_type": "code",
   "execution_count": 20,
   "metadata": {
    "id": "y6s0Ry3g1AKb",
    "run_control": {
     "marked": true
    }
   },
   "outputs": [
    {
     "data": {
      "image/png": "[encoded data removed]",
      "text/plain": [
       "<Figure size 432x288 with 1 Axes>"
      ]
     },
     "metadata": {
      "image/png": {
       "height": 279,
       "width": 392
      },
      "needs_background": "light"
     },
     "output_type": "display_data"
    }
   ],
   "source": [
    "sns.countplot(x=\"기준년도\", data = df)\n",
    "plt.title(\"연도별 전화사기 인구수\")\n",
    "plt.show()"
   ]
  },
  {
   "cell_type": "markdown",
   "metadata": {},
   "source": [
    "#### 시도별"
   ]
  },
  {
   "cell_type": "code",
   "execution_count": 21,
   "metadata": {
    "id": "-DO1vfmm1V3U",
    "run_control": {
     "marked": true
    }
   },
   "outputs": [
    {
     "data": {
      "image/png": "[encoded data removed]",
      "text/plain": [
       "<Figure size 432x288 with 1 Axes>"
      ]
     },
     "metadata": {
      "image/png": {
       "height": 279,
       "width": 440
      },
      "needs_background": "light"
     },
     "output_type": "display_data"
    }
   ],
   "source": [
    "sns.countplot(y=\"시도\", data = df, order = df[\"시도\"].value_counts().index)\n",
    "plt.title(\"시도별 전화사기 건수\")\n",
    "plt.show()"
   ]
  },
  {
   "cell_type": "markdown",
   "metadata": {},
   "source": [
    "#### 시간대별"
   ]
  },
  {
   "cell_type": "code",
   "execution_count": 22,
   "metadata": {
    "id": "KZm5W0naJqgR"
   },
   "outputs": [
    {
     "data": {
      "text/html": [
       "<div>\n",
       "<style scoped>\n",
       "    .dataframe tbody tr th:only-of-type {\n",
       "        vertical-align: middle;\n",
       "    }\n",
       "\n",
       "    .dataframe tbody tr th {\n",
       "        vertical-align: top;\n",
       "    }\n",
       "\n",
       "    .dataframe thead th {\n",
       "        text-align: right;\n",
       "    }\n",
       "</style>\n",
       "<table border=\"1\" class=\"dataframe\">\n",
       "  <thead>\n",
       "    <tr style=\"text-align: right;\">\n",
       "      <th></th>\n",
       "      <th>발생시간대00</th>\n",
       "      <th>발생시간대01</th>\n",
       "      <th>발생시간대02</th>\n",
       "      <th>발생시간대03</th>\n",
       "      <th>발생시간대04</th>\n",
       "      <th>발생시간대05</th>\n",
       "      <th>발생시간대06</th>\n",
       "      <th>발생시간대07</th>\n",
       "      <th>발생시간대08</th>\n",
       "      <th>발생시간대09</th>\n",
       "      <th>...</th>\n",
       "      <th>발생시간대14</th>\n",
       "      <th>발생시간대15</th>\n",
       "      <th>발생시간대16</th>\n",
       "      <th>발생시간대17</th>\n",
       "      <th>발생시간대18</th>\n",
       "      <th>발생시간대19</th>\n",
       "      <th>발생시간대20</th>\n",
       "      <th>발생시간대21</th>\n",
       "      <th>발생시간대22</th>\n",
       "      <th>발생시간대23</th>\n",
       "    </tr>\n",
       "  </thead>\n",
       "  <tbody>\n",
       "    <tr>\n",
       "      <th>1</th>\n",
       "      <td>0</td>\n",
       "      <td>1</td>\n",
       "      <td>0</td>\n",
       "      <td>0</td>\n",
       "      <td>0</td>\n",
       "      <td>0</td>\n",
       "      <td>0</td>\n",
       "      <td>0</td>\n",
       "      <td>0</td>\n",
       "      <td>6</td>\n",
       "      <td>...</td>\n",
       "      <td>2</td>\n",
       "      <td>3</td>\n",
       "      <td>2</td>\n",
       "      <td>5</td>\n",
       "      <td>0</td>\n",
       "      <td>0</td>\n",
       "      <td>0</td>\n",
       "      <td>0</td>\n",
       "      <td>2</td>\n",
       "      <td>2</td>\n",
       "    </tr>\n",
       "    <tr>\n",
       "      <th>2</th>\n",
       "      <td>0</td>\n",
       "      <td>0</td>\n",
       "      <td>0</td>\n",
       "      <td>0</td>\n",
       "      <td>0</td>\n",
       "      <td>0</td>\n",
       "      <td>0</td>\n",
       "      <td>0</td>\n",
       "      <td>0</td>\n",
       "      <td>2</td>\n",
       "      <td>...</td>\n",
       "      <td>1</td>\n",
       "      <td>4</td>\n",
       "      <td>2</td>\n",
       "      <td>1</td>\n",
       "      <td>4</td>\n",
       "      <td>2</td>\n",
       "      <td>1</td>\n",
       "      <td>0</td>\n",
       "      <td>0</td>\n",
       "      <td>1</td>\n",
       "    </tr>\n",
       "    <tr>\n",
       "      <th>3</th>\n",
       "      <td>3</td>\n",
       "      <td>2</td>\n",
       "      <td>0</td>\n",
       "      <td>1</td>\n",
       "      <td>0</td>\n",
       "      <td>0</td>\n",
       "      <td>1</td>\n",
       "      <td>0</td>\n",
       "      <td>6</td>\n",
       "      <td>26</td>\n",
       "      <td>...</td>\n",
       "      <td>26</td>\n",
       "      <td>35</td>\n",
       "      <td>22</td>\n",
       "      <td>14</td>\n",
       "      <td>14</td>\n",
       "      <td>8</td>\n",
       "      <td>12</td>\n",
       "      <td>8</td>\n",
       "      <td>2</td>\n",
       "      <td>3</td>\n",
       "    </tr>\n",
       "    <tr>\n",
       "      <th>4</th>\n",
       "      <td>1</td>\n",
       "      <td>2</td>\n",
       "      <td>0</td>\n",
       "      <td>0</td>\n",
       "      <td>0</td>\n",
       "      <td>2</td>\n",
       "      <td>1</td>\n",
       "      <td>1</td>\n",
       "      <td>5</td>\n",
       "      <td>17</td>\n",
       "      <td>...</td>\n",
       "      <td>16</td>\n",
       "      <td>17</td>\n",
       "      <td>13</td>\n",
       "      <td>11</td>\n",
       "      <td>3</td>\n",
       "      <td>5</td>\n",
       "      <td>2</td>\n",
       "      <td>4</td>\n",
       "      <td>2</td>\n",
       "      <td>3</td>\n",
       "    </tr>\n",
       "    <tr>\n",
       "      <th>5</th>\n",
       "      <td>0</td>\n",
       "      <td>0</td>\n",
       "      <td>0</td>\n",
       "      <td>0</td>\n",
       "      <td>0</td>\n",
       "      <td>0</td>\n",
       "      <td>0</td>\n",
       "      <td>0</td>\n",
       "      <td>0</td>\n",
       "      <td>0</td>\n",
       "      <td>...</td>\n",
       "      <td>1</td>\n",
       "      <td>2</td>\n",
       "      <td>0</td>\n",
       "      <td>0</td>\n",
       "      <td>0</td>\n",
       "      <td>0</td>\n",
       "      <td>0</td>\n",
       "      <td>0</td>\n",
       "      <td>0</td>\n",
       "      <td>0</td>\n",
       "    </tr>\n",
       "    <tr>\n",
       "      <th>...</th>\n",
       "      <td>...</td>\n",
       "      <td>...</td>\n",
       "      <td>...</td>\n",
       "      <td>...</td>\n",
       "      <td>...</td>\n",
       "      <td>...</td>\n",
       "      <td>...</td>\n",
       "      <td>...</td>\n",
       "      <td>...</td>\n",
       "      <td>...</td>\n",
       "      <td>...</td>\n",
       "      <td>...</td>\n",
       "      <td>...</td>\n",
       "      <td>...</td>\n",
       "      <td>...</td>\n",
       "      <td>...</td>\n",
       "      <td>...</td>\n",
       "      <td>...</td>\n",
       "      <td>...</td>\n",
       "      <td>...</td>\n",
       "      <td>...</td>\n",
       "    </tr>\n",
       "    <tr>\n",
       "      <th>12736</th>\n",
       "      <td>0</td>\n",
       "      <td>0</td>\n",
       "      <td>0</td>\n",
       "      <td>0</td>\n",
       "      <td>0</td>\n",
       "      <td>0</td>\n",
       "      <td>0</td>\n",
       "      <td>0</td>\n",
       "      <td>0</td>\n",
       "      <td>0</td>\n",
       "      <td>...</td>\n",
       "      <td>0</td>\n",
       "      <td>0</td>\n",
       "      <td>0</td>\n",
       "      <td>2</td>\n",
       "      <td>0</td>\n",
       "      <td>0</td>\n",
       "      <td>0</td>\n",
       "      <td>0</td>\n",
       "      <td>0</td>\n",
       "      <td>0</td>\n",
       "    </tr>\n",
       "    <tr>\n",
       "      <th>12737</th>\n",
       "      <td>0</td>\n",
       "      <td>0</td>\n",
       "      <td>0</td>\n",
       "      <td>0</td>\n",
       "      <td>0</td>\n",
       "      <td>0</td>\n",
       "      <td>0</td>\n",
       "      <td>0</td>\n",
       "      <td>0</td>\n",
       "      <td>2</td>\n",
       "      <td>...</td>\n",
       "      <td>0</td>\n",
       "      <td>0</td>\n",
       "      <td>0</td>\n",
       "      <td>0</td>\n",
       "      <td>0</td>\n",
       "      <td>0</td>\n",
       "      <td>0</td>\n",
       "      <td>0</td>\n",
       "      <td>0</td>\n",
       "      <td>0</td>\n",
       "    </tr>\n",
       "    <tr>\n",
       "      <th>12738</th>\n",
       "      <td>0</td>\n",
       "      <td>0</td>\n",
       "      <td>0</td>\n",
       "      <td>0</td>\n",
       "      <td>0</td>\n",
       "      <td>0</td>\n",
       "      <td>0</td>\n",
       "      <td>0</td>\n",
       "      <td>0</td>\n",
       "      <td>0</td>\n",
       "      <td>...</td>\n",
       "      <td>0</td>\n",
       "      <td>1</td>\n",
       "      <td>0</td>\n",
       "      <td>0</td>\n",
       "      <td>0</td>\n",
       "      <td>0</td>\n",
       "      <td>0</td>\n",
       "      <td>0</td>\n",
       "      <td>0</td>\n",
       "      <td>0</td>\n",
       "    </tr>\n",
       "    <tr>\n",
       "      <th>12739</th>\n",
       "      <td>0</td>\n",
       "      <td>0</td>\n",
       "      <td>0</td>\n",
       "      <td>0</td>\n",
       "      <td>0</td>\n",
       "      <td>0</td>\n",
       "      <td>0</td>\n",
       "      <td>0</td>\n",
       "      <td>0</td>\n",
       "      <td>0</td>\n",
       "      <td>...</td>\n",
       "      <td>0</td>\n",
       "      <td>0</td>\n",
       "      <td>0</td>\n",
       "      <td>0</td>\n",
       "      <td>0</td>\n",
       "      <td>0</td>\n",
       "      <td>0</td>\n",
       "      <td>1</td>\n",
       "      <td>0</td>\n",
       "      <td>0</td>\n",
       "    </tr>\n",
       "    <tr>\n",
       "      <th>12740</th>\n",
       "      <td>0</td>\n",
       "      <td>0</td>\n",
       "      <td>0</td>\n",
       "      <td>0</td>\n",
       "      <td>0</td>\n",
       "      <td>0</td>\n",
       "      <td>0</td>\n",
       "      <td>0</td>\n",
       "      <td>0</td>\n",
       "      <td>0</td>\n",
       "      <td>...</td>\n",
       "      <td>1</td>\n",
       "      <td>0</td>\n",
       "      <td>0</td>\n",
       "      <td>0</td>\n",
       "      <td>0</td>\n",
       "      <td>0</td>\n",
       "      <td>0</td>\n",
       "      <td>0</td>\n",
       "      <td>0</td>\n",
       "      <td>0</td>\n",
       "    </tr>\n",
       "  </tbody>\n",
       "</table>\n",
       "<p>12738 rows × 24 columns</p>\n",
       "</div>"
      ],
      "text/plain": [
       "       발생시간대00  발생시간대01  발생시간대02  발생시간대03  발생시간대04  발생시간대05  발생시간대06  발생시간대07  \\\n",
       "1            0        1        0        0        0        0        0        0   \n",
       "2            0        0        0        0        0        0        0        0   \n",
       "3            3        2        0        1        0        0        1        0   \n",
       "4            1        2        0        0        0        2        1        1   \n",
       "5            0        0        0        0        0        0        0        0   \n",
       "...        ...      ...      ...      ...      ...      ...      ...      ...   \n",
       "12736        0        0        0        0        0        0        0        0   \n",
       "12737        0        0        0        0        0        0        0        0   \n",
       "12738        0        0        0        0        0        0        0        0   \n",
       "12739        0        0        0        0        0        0        0        0   \n",
       "12740        0        0        0        0        0        0        0        0   \n",
       "\n",
       "       발생시간대08  발생시간대09  ...  발생시간대14  발생시간대15  발생시간대16  발생시간대17  발생시간대18  \\\n",
       "1            0        6  ...        2        3        2        5        0   \n",
       "2            0        2  ...        1        4        2        1        4   \n",
       "3            6       26  ...       26       35       22       14       14   \n",
       "4            5       17  ...       16       17       13       11        3   \n",
       "5            0        0  ...        1        2        0        0        0   \n",
       "...        ...      ...  ...      ...      ...      ...      ...      ...   \n",
       "12736        0        0  ...        0        0        0        2        0   \n",
       "12737        0        2  ...        0        0        0        0        0   \n",
       "12738        0        0  ...        0        1        0        0        0   \n",
       "12739        0        0  ...        0        0        0        0        0   \n",
       "12740        0        0  ...        1        0        0        0        0   \n",
       "\n",
       "       발생시간대19  발생시간대20  발생시간대21  발생시간대22  발생시간대23  \n",
       "1            0        0        0        2        2  \n",
       "2            2        1        0        0        1  \n",
       "3            8       12        8        2        3  \n",
       "4            5        2        4        2        3  \n",
       "5            0        0        0        0        0  \n",
       "...        ...      ...      ...      ...      ...  \n",
       "12736        0        0        0        0        0  \n",
       "12737        0        0        0        0        0  \n",
       "12738        0        0        0        0        0  \n",
       "12739        0        0        1        0        0  \n",
       "12740        0        0        0        0        0  \n",
       "\n",
       "[12738 rows x 24 columns]"
      ]
     },
     "execution_count": 22,
     "metadata": {},
     "output_type": "execute_result"
    }
   ],
   "source": [
    "df_time = df.iloc[:,21:]\n",
    "df_time"
   ]
  },
  {
   "cell_type": "code",
   "execution_count": 23,
   "metadata": {
    "id": "bBkYuFUgNbp2"
   },
   "outputs": [
    {
     "data": {
      "text/plain": [
       "발생시간대00     2935\n",
       "발생시간대01     1898\n",
       "발생시간대02     1154\n",
       "발생시간대03      771\n",
       "발생시간대04      637\n",
       "발생시간대05      719\n",
       "발생시간대06      990\n",
       "발생시간대07     1921\n",
       "발생시간대08     7349\n",
       "발생시간대09    35888\n",
       "발생시간대10    58236\n",
       "발생시간대11    63847\n",
       "발생시간대12    59779\n",
       "발생시간대13    58752\n",
       "발생시간대14    57301\n",
       "발생시간대15    51100\n",
       "발생시간대16    41052\n",
       "발생시간대17    33455\n",
       "발생시간대18    25948\n",
       "발생시간대19    18592\n",
       "발생시간대20    13774\n",
       "발생시간대21    10090\n",
       "발생시간대22     7547\n",
       "발생시간대23     4984\n",
       "dtype: int64"
      ]
     },
     "execution_count": 23,
     "metadata": {},
     "output_type": "execute_result"
    }
   ],
   "source": [
    "time_sum = df_time.sum()\n",
    "time_sum"
   ]
  },
  {
   "cell_type": "code",
   "execution_count": 24,
   "metadata": {},
   "outputs": [
    {
     "data": {
      "image/png": "[encoded data removed]",
      "text/plain": [
       "<Figure size 1440x360 with 1 Axes>"
      ]
     },
     "metadata": {
      "image/png": {
       "height": 357,
       "width": 1164
      },
      "needs_background": "light"
     },
     "output_type": "display_data"
    }
   ],
   "source": [
    "plt.figure(figsize=(20,5))\n",
    "plt.xticks(rotation=30)\n",
    "plt.plot(time_sum, marker='o')\n",
    "\n",
    "plt.title('<시간대별 전화사기건수>', pad=15)\n",
    "plt.show()\n",
    "# 11시~14시 사이의 전화사기건수가 가장 많음"
   ]
  },
  {
   "cell_type": "markdown",
   "metadata": {},
   "source": [
    "#### 요일별"
   ]
  },
  {
   "cell_type": "code",
   "execution_count": 25,
   "metadata": {},
   "outputs": [
    {
     "data": {
      "text/html": [
       "<div>\n",
       "<style scoped>\n",
       "    .dataframe tbody tr th:only-of-type {\n",
       "        vertical-align: middle;\n",
       "    }\n",
       "\n",
       "    .dataframe tbody tr th {\n",
       "        vertical-align: top;\n",
       "    }\n",
       "\n",
       "    .dataframe thead th {\n",
       "        text-align: right;\n",
       "    }\n",
       "</style>\n",
       "<table border=\"1\" class=\"dataframe\">\n",
       "  <thead>\n",
       "    <tr style=\"text-align: right;\">\n",
       "      <th></th>\n",
       "      <th>발생요일일요일</th>\n",
       "      <th>발생요일월요일</th>\n",
       "      <th>발생요일화요일</th>\n",
       "      <th>발생요일수요일</th>\n",
       "      <th>발생요일목요일</th>\n",
       "      <th>발생요일금요일</th>\n",
       "      <th>발생요일토요일</th>\n",
       "    </tr>\n",
       "  </thead>\n",
       "  <tbody>\n",
       "    <tr>\n",
       "      <th>1</th>\n",
       "      <td>0</td>\n",
       "      <td>10</td>\n",
       "      <td>3</td>\n",
       "      <td>9</td>\n",
       "      <td>12</td>\n",
       "      <td>6</td>\n",
       "      <td>1</td>\n",
       "    </tr>\n",
       "    <tr>\n",
       "      <th>2</th>\n",
       "      <td>1</td>\n",
       "      <td>7</td>\n",
       "      <td>13</td>\n",
       "      <td>5</td>\n",
       "      <td>5</td>\n",
       "      <td>7</td>\n",
       "      <td>2</td>\n",
       "    </tr>\n",
       "    <tr>\n",
       "      <th>3</th>\n",
       "      <td>3</td>\n",
       "      <td>60</td>\n",
       "      <td>91</td>\n",
       "      <td>73</td>\n",
       "      <td>70</td>\n",
       "      <td>77</td>\n",
       "      <td>6</td>\n",
       "    </tr>\n",
       "  </tbody>\n",
       "</table>\n",
       "</div>"
      ],
      "text/plain": [
       "   발생요일일요일  발생요일월요일  발생요일화요일  발생요일수요일  발생요일목요일  발생요일금요일  발생요일토요일\n",
       "1        0       10        3        9       12        6        1\n",
       "2        1        7       13        5        5        7        2\n",
       "3        3       60       91       73       70       77        6"
      ]
     },
     "execution_count": 25,
     "metadata": {},
     "output_type": "execute_result"
    }
   ],
   "source": [
    "df_day = df.iloc[:,14:21]\n",
    "df_day.head(3)"
   ]
  },
  {
   "cell_type": "code",
   "execution_count": 26,
   "metadata": {},
   "outputs": [
    {
     "data": {
      "text/plain": [
       "발생요일일요일     15824\n",
       "발생요일월요일     97875\n",
       "발생요일화요일    104138\n",
       "발생요일수요일    103259\n",
       "발생요일목요일    105092\n",
       "발생요일금요일     99828\n",
       "발생요일토요일     32703\n",
       "dtype: int64"
      ]
     },
     "execution_count": 26,
     "metadata": {},
     "output_type": "execute_result"
    }
   ],
   "source": [
    "df_day_sum = df_day.sum()\n",
    "df_day_sum"
   ]
  },
  {
   "cell_type": "code",
   "execution_count": 27,
   "metadata": {},
   "outputs": [
    {
     "data": {
      "image/png": "[encoded data removed]",
      "text/plain": [
       "<Figure size 720x360 with 1 Axes>"
      ]
     },
     "metadata": {
      "image/png": {
       "height": 361,
       "width": 619
      },
      "needs_background": "light"
     },
     "output_type": "display_data"
    }
   ],
   "source": [
    "plt.figure(figsize=(10,5))\n",
    "plt.xticks(rotation=30)\n",
    "plt.plot(df_day_sum, marker='o')\n",
    "\n",
    "plt.title('<요일별 전화사기건수>', pad=15)\n",
    "plt.show()\n",
    "# 주말보다는 평일에 전화사기가 많이 일어남을 확인"
   ]
  },
  {
   "cell_type": "markdown",
   "metadata": {},
   "source": [
    "#### 접수긴급유형긴급과 지역별"
   ]
  },
  {
   "cell_type": "code",
   "execution_count": 28,
   "metadata": {},
   "outputs": [
    {
     "data": {
      "text/html": [
       "<div>\n",
       "<style scoped>\n",
       "    .dataframe tbody tr th:only-of-type {\n",
       "        vertical-align: middle;\n",
       "    }\n",
       "\n",
       "    .dataframe tbody tr th {\n",
       "        vertical-align: top;\n",
       "    }\n",
       "\n",
       "    .dataframe thead th {\n",
       "        text-align: right;\n",
       "    }\n",
       "</style>\n",
       "<table border=\"1\" class=\"dataframe\">\n",
       "  <thead>\n",
       "    <tr style=\"text-align: right;\">\n",
       "      <th></th>\n",
       "      <th>접수긴급유형긴급</th>\n",
       "    </tr>\n",
       "    <tr>\n",
       "      <th>시도</th>\n",
       "      <th></th>\n",
       "    </tr>\n",
       "  </thead>\n",
       "  <tbody>\n",
       "    <tr>\n",
       "      <th>강원도</th>\n",
       "      <td>682</td>\n",
       "    </tr>\n",
       "    <tr>\n",
       "      <th>경기도</th>\n",
       "      <td>2073</td>\n",
       "    </tr>\n",
       "    <tr>\n",
       "      <th>경상남도</th>\n",
       "      <td>1365</td>\n",
       "    </tr>\n",
       "    <tr>\n",
       "      <th>경상북도</th>\n",
       "      <td>1256</td>\n",
       "    </tr>\n",
       "    <tr>\n",
       "      <th>광주광역시</th>\n",
       "      <td>411</td>\n",
       "    </tr>\n",
       "    <tr>\n",
       "      <th>대구광역시</th>\n",
       "      <td>543</td>\n",
       "    </tr>\n",
       "    <tr>\n",
       "      <th>대전광역시</th>\n",
       "      <td>396</td>\n",
       "    </tr>\n",
       "    <tr>\n",
       "      <th>부산광역시</th>\n",
       "      <td>529</td>\n",
       "    </tr>\n",
       "    <tr>\n",
       "      <th>서울특별시</th>\n",
       "      <td>1378</td>\n",
       "    </tr>\n",
       "    <tr>\n",
       "      <th>세종특별자치시</th>\n",
       "      <td>75</td>\n",
       "    </tr>\n",
       "    <tr>\n",
       "      <th>울산광역시</th>\n",
       "      <td>214</td>\n",
       "    </tr>\n",
       "    <tr>\n",
       "      <th>인천광역시</th>\n",
       "      <td>411</td>\n",
       "    </tr>\n",
       "    <tr>\n",
       "      <th>전라남도</th>\n",
       "      <td>933</td>\n",
       "    </tr>\n",
       "    <tr>\n",
       "      <th>전라북도</th>\n",
       "      <td>963</td>\n",
       "    </tr>\n",
       "    <tr>\n",
       "      <th>제주특별자치도</th>\n",
       "      <td>201</td>\n",
       "    </tr>\n",
       "    <tr>\n",
       "      <th>충청남도</th>\n",
       "      <td>761</td>\n",
       "    </tr>\n",
       "    <tr>\n",
       "      <th>충청북도</th>\n",
       "      <td>547</td>\n",
       "    </tr>\n",
       "  </tbody>\n",
       "</table>\n",
       "</div>"
      ],
      "text/plain": [
       "         접수긴급유형긴급\n",
       "시도               \n",
       "강원도           682\n",
       "경기도          2073\n",
       "경상남도         1365\n",
       "경상북도         1256\n",
       "광주광역시         411\n",
       "대구광역시         543\n",
       "대전광역시         396\n",
       "부산광역시         529\n",
       "서울특별시        1378\n",
       "세종특별자치시        75\n",
       "울산광역시         214\n",
       "인천광역시         411\n",
       "전라남도          933\n",
       "전라북도          963\n",
       "제주특별자치도       201\n",
       "충청남도          761\n",
       "충청북도          547"
      ]
     },
     "execution_count": 28,
     "metadata": {},
     "output_type": "execute_result"
    }
   ],
   "source": [
    "df_report_large = df.groupby(['시도'])['접수긴급유형긴급'].count()\n",
    "df_report_large=pd.DataFrame(df_report_large)\n",
    "df_report_large"
   ]
  },
  {
   "cell_type": "code",
   "execution_count": 29,
   "metadata": {},
   "outputs": [
    {
     "data": {
      "text/plain": [
       "<AxesSubplot:title={'center':'<시도별 접수긴급유형긴급 건수>'}, ylabel='시도'>"
      ]
     },
     "execution_count": 29,
     "metadata": {},
     "output_type": "execute_result"
    },
    {
     "data": {
      "image/png": "[encoded data removed]",
      "text/plain": [
       "<Figure size 504x648 with 1 Axes>"
      ]
     },
     "metadata": {
      "image/png": {
       "height": 536,
       "width": 496
      },
      "needs_background": "light"
     },
     "output_type": "display_data"
    }
   ],
   "source": [
    "df_report_large.plot.barh(figsize =(7,9), grid = True, title='<시도별 접수긴급유형긴급 건수>')"
   ]
  },
  {
   "cell_type": "code",
   "execution_count": 30,
   "metadata": {},
   "outputs": [
    {
     "data": {
      "text/plain": [
       "Index(['기준년도', '시도', '시군구', '행정동', '인구', '신고성별남성', '신고성별여성', '신고성별불상',\n",
       "       '신고성별기타', '접수긴급유형긴급', '접수긴급유형중요', '접수긴급유형일반', '접수긴급유형민원', '접수긴급유형기타',\n",
       "       '발생요일일요일', '발생요일월요일', '발생요일화요일', '발생요일수요일', '발생요일목요일', '발생요일금요일',\n",
       "       '발생요일토요일', '발생시간대00', '발생시간대01', '발생시간대02', '발생시간대03', '발생시간대04',\n",
       "       '발생시간대05', '발생시간대06', '발생시간대07', '발생시간대08', '발생시간대09', '발생시간대10',\n",
       "       '발생시간대11', '발생시간대12', '발생시간대13', '발생시간대14', '발생시간대15', '발생시간대16',\n",
       "       '발생시간대17', '발생시간대18', '발생시간대19', '발생시간대20', '발생시간대21', '발생시간대22',\n",
       "       '발생시간대23'],\n",
       "      dtype='object')"
      ]
     },
     "execution_count": 30,
     "metadata": {},
     "output_type": "execute_result"
    }
   ],
   "source": [
    "df.columns"
   ]
  },
  {
   "cell_type": "markdown",
   "metadata": {},
   "source": [
    "- 경기도 시군구별 접수긴급유형긴급이 가장 많은 지역 시각화"
   ]
  },
  {
   "cell_type": "code",
   "execution_count": 75,
   "metadata": {},
   "outputs": [
    {
     "data": {
      "text/plain": [
       "2         성남시 수정구\n",
       "21            김포시\n",
       "23            화성시\n",
       "34        성남시 분당구\n",
       "35        수원시 장안구\n",
       "           ...   \n",
       "12704         안성시\n",
       "12714     용인시 처인구\n",
       "12721    고양시 일산서구\n",
       "12726     고양시 덕양구\n",
       "12727         양주시\n",
       "Name: 시군구, Length: 2073, dtype: object"
      ]
     },
     "execution_count": 75,
     "metadata": {},
     "output_type": "execute_result"
    }
   ],
   "source": [
    "df_Gyeonggi = df[df['시도'] == '경기도'].copy()\n",
    "df_Gyeonggi['시군구']"
   ]
  },
  {
   "cell_type": "code",
   "execution_count": 81,
   "metadata": {},
   "outputs": [
    {
     "data": {
      "text/html": [
       "<div>\n",
       "<style scoped>\n",
       "    .dataframe tbody tr th:only-of-type {\n",
       "        vertical-align: middle;\n",
       "    }\n",
       "\n",
       "    .dataframe tbody tr th {\n",
       "        vertical-align: top;\n",
       "    }\n",
       "\n",
       "    .dataframe thead th {\n",
       "        text-align: right;\n",
       "    }\n",
       "</style>\n",
       "<table border=\"1\" class=\"dataframe\">\n",
       "  <thead>\n",
       "    <tr style=\"text-align: right;\">\n",
       "      <th></th>\n",
       "      <th>접수긴급유형긴급</th>\n",
       "    </tr>\n",
       "    <tr>\n",
       "      <th>시군구</th>\n",
       "      <th></th>\n",
       "    </tr>\n",
       "  </thead>\n",
       "  <tbody>\n",
       "    <tr>\n",
       "      <th>가평군</th>\n",
       "      <td>18</td>\n",
       "    </tr>\n",
       "    <tr>\n",
       "      <th>고양시 덕양구</th>\n",
       "      <td>83</td>\n",
       "    </tr>\n",
       "    <tr>\n",
       "      <th>고양시 일산동구</th>\n",
       "      <td>38</td>\n",
       "    </tr>\n",
       "    <tr>\n",
       "      <th>고양시 일산서구</th>\n",
       "      <td>23</td>\n",
       "    </tr>\n",
       "    <tr>\n",
       "      <th>과천시</th>\n",
       "      <td>28</td>\n",
       "    </tr>\n",
       "  </tbody>\n",
       "</table>\n",
       "</div>"
      ],
      "text/plain": [
       "          접수긴급유형긴급\n",
       "시군구               \n",
       "가평군             18\n",
       "고양시 덕양구         83\n",
       "고양시 일산동구        38\n",
       "고양시 일산서구        23\n",
       "과천시             28"
      ]
     },
     "execution_count": 81,
     "metadata": {},
     "output_type": "execute_result"
    }
   ],
   "source": [
    "series_Gyeonggi = df_Gyeonggi.groupby(['시군구'])['접수긴급유형긴급'].count()\n",
    "df_Gyeonggi_1= pd.DataFrame(series_Gyeonggi)\n",
    "df_Gyeonggi_1.head()"
   ]
  },
  {
   "cell_type": "code",
   "execution_count": 82,
   "metadata": {
    "scrolled": true
   },
   "outputs": [
    {
     "data": {
      "text/html": [
       "<div>\n",
       "<style scoped>\n",
       "    .dataframe tbody tr th:only-of-type {\n",
       "        vertical-align: middle;\n",
       "    }\n",
       "\n",
       "    .dataframe tbody tr th {\n",
       "        vertical-align: top;\n",
       "    }\n",
       "\n",
       "    .dataframe thead th {\n",
       "        text-align: right;\n",
       "    }\n",
       "</style>\n",
       "<table border=\"1\" class=\"dataframe\">\n",
       "  <thead>\n",
       "    <tr style=\"text-align: right;\">\n",
       "      <th></th>\n",
       "      <th>접수긴급유형긴급</th>\n",
       "    </tr>\n",
       "    <tr>\n",
       "      <th>시군구</th>\n",
       "      <th></th>\n",
       "    </tr>\n",
       "  </thead>\n",
       "  <tbody>\n",
       "    <tr>\n",
       "      <th>고양시 덕양구</th>\n",
       "      <td>83</td>\n",
       "    </tr>\n",
       "    <tr>\n",
       "      <th>부천시</th>\n",
       "      <td>71</td>\n",
       "    </tr>\n",
       "    <tr>\n",
       "      <th>시흥시</th>\n",
       "      <td>86</td>\n",
       "    </tr>\n",
       "    <tr>\n",
       "      <th>안성시</th>\n",
       "      <td>115</td>\n",
       "    </tr>\n",
       "    <tr>\n",
       "      <th>여주시</th>\n",
       "      <td>78</td>\n",
       "    </tr>\n",
       "    <tr>\n",
       "      <th>이천시</th>\n",
       "      <td>72</td>\n",
       "    </tr>\n",
       "    <tr>\n",
       "      <th>파주시</th>\n",
       "      <td>89</td>\n",
       "    </tr>\n",
       "    <tr>\n",
       "      <th>평택시</th>\n",
       "      <td>106</td>\n",
       "    </tr>\n",
       "    <tr>\n",
       "      <th>화성시</th>\n",
       "      <td>112</td>\n",
       "    </tr>\n",
       "  </tbody>\n",
       "</table>\n",
       "</div>"
      ],
      "text/plain": [
       "         접수긴급유형긴급\n",
       "시군구              \n",
       "고양시 덕양구        83\n",
       "부천시            71\n",
       "시흥시            86\n",
       "안성시           115\n",
       "여주시            78\n",
       "이천시            72\n",
       "파주시            89\n",
       "평택시           106\n",
       "화성시           112"
      ]
     },
     "execution_count": 82,
     "metadata": {},
     "output_type": "execute_result"
    }
   ],
   "source": [
    "df_Gyeonggi_2 = df_Gyeonggi_1[df_Gyeonggi_1['접수긴급유형긴급']>70]\n",
    "df_Gyeonggi_2"
   ]
  },
  {
   "cell_type": "code",
   "execution_count": 89,
   "metadata": {},
   "outputs": [
    {
     "data": {
      "text/plain": [
       "<AxesSubplot:xlabel='시군구'>"
      ]
     },
     "execution_count": 89,
     "metadata": {},
     "output_type": "execute_result"
    },
    {
     "data": {
      "image/png": "[encoded data removed]",
      "text/plain": [
       "<Figure size 432x288 with 1 Axes>"
      ]
     },
     "metadata": {
      "image/png": {
       "height": 296,
       "width": 372
      },
      "needs_background": "light"
     },
     "output_type": "display_data"
    }
   ],
   "source": [
    "df_Gyeonggi_2.plot.bar(rot=30)"
   ]
  },
  {
   "cell_type": "code",
   "execution_count": null,
   "metadata": {},
   "outputs": [],
   "source": []
  },
  {
   "cell_type": "code",
   "execution_count": null,
   "metadata": {},
   "outputs": [],
   "source": []
  },
  {
   "cell_type": "code",
   "execution_count": null,
   "metadata": {},
   "outputs": [],
   "source": []
  }
 ],
 "metadata": {
  "colab": {
   "private_outputs": true,
   "provenance": []
  },
  "kernelspec": {
   "display_name": "Python 3 (ipykernel)",
   "language": "python",
   "name": "python3"
  },
  "language_info": {
   "codemirror_mode": {
    "name": "ipython",
    "version": 3
   },
   "file_extension": ".py",
   "mimetype": "text/x-python",
   "name": "python",
   "nbconvert_exporter": "python",
   "pygments_lexer": "ipython3",
   "version": "3.9.7"
  },
  "toc": {
   "base_numbering": 1,
   "nav_menu": {
    "height": "10px",
    "width": "160px"
   },
   "number_sections": true,
   "sideBar": true,
   "skip_h1_title": false,
   "title_cell": "Table of Contents",
   "title_sidebar": "Contents",
   "toc_cell": false,
   "toc_position": {},
   "toc_section_display": true,
   "toc_window_display": false
  }
 },
 "nbformat": 4,
 "nbformat_minor": 1
}
